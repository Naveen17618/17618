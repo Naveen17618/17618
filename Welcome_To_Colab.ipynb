{
  "cells": [
    {
      "cell_type": "markdown",
      "metadata": {
        "id": "view-in-github",
        "colab_type": "text"
      },
      "source": [
        "<a href=\"https://colab.research.google.com/github/Naveen17618/17618/blob/main/Welcome_To_Colab.ipynb\" target=\"_parent\"><img src=\"https://colab.research.google.com/assets/colab-badge.svg\" alt=\"Open In Colab\"/></a>"
      ]
    },
    {
      "cell_type": "code",
      "source": [
        "def temperature_modeling(a,b,c,time):\n",
        "  temperature = a*time**2 + b*time + c\n",
        "  return temperature\n",
        ""
      ],
      "metadata": {
        "id": "82KHLqDUSSz5"
      },
      "execution_count": 1,
      "outputs": []
    },
    {
      "cell_type": "code",
      "source": [
        "a,b,c = 0.1,2,10\n",
        "time = 5"
      ],
      "metadata": {
        "id": "tCY8ECLLSrQJ"
      },
      "execution_count": 2,
      "outputs": []
    },
    {
      "cell_type": "code",
      "source": [
        "print(\"Hard-coded variables for weather modeling\")\n",
        "print(\"Temperature for hardcoded coefficients at time\",time,\"hours:\",temperature_modeling(a,b,c,time))"
      ],
      "metadata": {
        "id": "KCxfz4m-S1iR",
        "outputId": "550574c6-4061-4085-e395-7bfa6082ec23",
        "colab": {
          "base_uri": "https://localhost:8080/"
        }
      },
      "execution_count": 4,
      "outputs": [
        {
          "output_type": "stream",
          "name": "stdout",
          "text": [
            "Hard-coded variables for weather modeling\n",
            "Temperature for hardcoded coefficients at time 5 hours: 22.5\n"
          ]
        }
      ]
    },
    {
      "cell_type": "code",
      "source": [
        "a = float(input(\"Enter coefficient a:\"))\n",
        "b = float(input(\"Enter coefficient b:\"))\n",
        "c = float(input(\"Enter coefficient c:\"))\n",
        "\n"
      ],
      "metadata": {
        "id": "WhqO2lvdTz_P",
        "outputId": "de9303ae-0937-4d36-806f-e5f2e65d6852",
        "colab": {
          "base_uri": "https://localhost:8080/"
        }
      },
      "execution_count": 5,
      "outputs": [
        {
          "name": "stdout",
          "output_type": "stream",
          "text": [
            "Enter coefficient a:0.1\n",
            "Enter coefficient b:3\n",
            "Enter coefficient c:10\n"
          ]
        }
      ]
    },
    {
      "cell_type": "code",
      "source": [
        "time = float(input(\"Enter time:\"))"
      ],
      "metadata": {
        "id": "jo0Je3GYUIgD",
        "outputId": "51d15f4a-dbea-4652-9105-1b741f6f86bc",
        "colab": {
          "base_uri": "https://localhost:8080/"
        }
      },
      "execution_count": 6,
      "outputs": [
        {
          "name": "stdout",
          "output_type": "stream",
          "text": [
            "Enter time:4\n"
          ]
        }
      ]
    },
    {
      "cell_type": "code",
      "source": [
        "print(\"Hard-coded variables for weather modeling\")\n",
        "print(\"Temperature from keyboard coefficients at time\", time, \"hours:\", temperature_modeling(a, b, c, time))"
      ],
      "metadata": {
        "id": "QvCi6JOIUMO9",
        "outputId": "ace8d3db-5128-4142-cbf6-bb5072bb8b2c",
        "colab": {
          "base_uri": "https://localhost:8080/"
        }
      },
      "execution_count": 8,
      "outputs": [
        {
          "output_type": "stream",
          "name": "stdout",
          "text": [
            "Hard-coded variables for weather modeling\n",
            "Temperature from keyboard coefficients at time 4.0 hours: 23.6\n"
          ]
        }
      ]
    },
    {
      "cell_type": "code",
      "source": [
        "def read_from_file(filename):\n",
        "    with open(filename, 'r') as file:\n",
        "        lines = file.readlines()\n",
        "        coefficients = [tuple(map(float, line.strip().split(','))) for line in lines]\n",
        "    return coefficients\n"
      ],
      "metadata": {
        "id": "_7t-xmRKURUC"
      },
      "execution_count": 9,
      "outputs": []
    },
    {
      "cell_type": "code",
      "source": [
        "coefficients = read_from_file('/content/task-2(254).txt')\n",
        "a, b, c, time = coefficients[0]\n",
        "temperature = temperature_modeling(a, b, c, time)\n",
        "\n",
        "print(\"read from a file for weather modeling\")\n",
        "print(\"Temperature form keyboard coefficients at time\", time, \"hours:\", temperature_modeling(a, b, c, time))"
      ],
      "metadata": {
        "id": "Fqh1cfhtUkQ_",
        "outputId": "00ec9a05-47d4-4a3d-e825-a195a01d3391",
        "colab": {
          "base_uri": "https://localhost:8080/"
        }
      },
      "execution_count": 11,
      "outputs": [
        {
          "output_type": "stream",
          "name": "stdout",
          "text": [
            "read from a file for weather modeling\n",
            "Temperature form keyboard coefficients at time 4.0 hours: 8.6\n"
          ]
        }
      ]
    },
    {
      "cell_type": "code",
      "source": [
        "for idx, (a, b, c, time) in enumerate(coefficients):\n",
        "    temperature = temperature_modeling(a, b, c, time)\n",
        "    print(\"Temperature form keyboard coefficients at time\", time, \"hours:\", temperature_modeling(a, b, c, time))"
      ],
      "metadata": {
        "id": "7hRrx2_5W7F9",
        "outputId": "a1e00eef-2426-4b2d-e266-3f812e61c560",
        "colab": {
          "base_uri": "https://localhost:8080/"
        }
      },
      "execution_count": 12,
      "outputs": [
        {
          "output_type": "stream",
          "name": "stdout",
          "text": [
            "Temperature form keyboard coefficients at time 4.0 hours: 8.6\n",
            "Temperature form keyboard coefficients at time 6.0 hours: 24.2\n"
          ]
        }
      ]
    }
  ],
  "metadata": {
    "colab": {
      "name": "Welcome To Colab",
      "provenance": [],
      "include_colab_link": true
    },
    "kernelspec": {
      "display_name": "Python 3",
      "name": "python3"
    }
  },
  "nbformat": 4,
  "nbformat_minor": 0
}